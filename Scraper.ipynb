{
  "cells": [
    {
      "cell_type": "code",
      "execution_count": 2,
      "metadata": {
        "colab": {
          "base_uri": "https://localhost:8080/"
        },
        "id": "wPC9jXQKt0X3",
        "outputId": "186e6304-468f-47ec-fd23-1bfbdaa5f0a4"
      },
      "outputs": [
        {
          "name": "stdout",
          "output_type": "stream",
          "text": [
            "Collecting playwright\n",
            "  Downloading playwright-1.54.0-py3-none-manylinux1_x86_64.whl.metadata (3.5 kB)\n",
            "Requirement already satisfied: openai in /usr/local/lib/python3.11/dist-packages (1.97.1)\n",
            "Collecting pyee<14,>=13 (from playwright)\n",
            "  Downloading pyee-13.0.0-py3-none-any.whl.metadata (2.9 kB)\n",
            "Requirement already satisfied: greenlet<4.0.0,>=3.1.1 in /usr/local/lib/python3.11/dist-packages (from playwright) (3.2.3)\n",
            "Requirement already satisfied: anyio<5,>=3.5.0 in /usr/local/lib/python3.11/dist-packages (from openai) (4.9.0)\n",
            "Requirement already satisfied: distro<2,>=1.7.0 in /usr/local/lib/python3.11/dist-packages (from openai) (1.9.0)\n",
            "Requirement already satisfied: httpx<1,>=0.23.0 in /usr/local/lib/python3.11/dist-packages (from openai) (0.28.1)\n",
            "Requirement already satisfied: jiter<1,>=0.4.0 in /usr/local/lib/python3.11/dist-packages (from openai) (0.10.0)\n",
            "Requirement already satisfied: pydantic<3,>=1.9.0 in /usr/local/lib/python3.11/dist-packages (from openai) (2.11.7)\n",
            "Requirement already satisfied: sniffio in /usr/local/lib/python3.11/dist-packages (from openai) (1.3.1)\n",
            "Requirement already satisfied: tqdm>4 in /usr/local/lib/python3.11/dist-packages (from openai) (4.67.1)\n",
            "Requirement already satisfied: typing-extensions<5,>=4.11 in /usr/local/lib/python3.11/dist-packages (from openai) (4.14.1)\n",
            "Requirement already satisfied: idna>=2.8 in /usr/local/lib/python3.11/dist-packages (from anyio<5,>=3.5.0->openai) (3.10)\n",
            "Requirement already satisfied: certifi in /usr/local/lib/python3.11/dist-packages (from httpx<1,>=0.23.0->openai) (2025.7.14)\n",
            "Requirement already satisfied: httpcore==1.* in /usr/local/lib/python3.11/dist-packages (from httpx<1,>=0.23.0->openai) (1.0.9)\n",
            "Requirement already satisfied: h11>=0.16 in /usr/local/lib/python3.11/dist-packages (from httpcore==1.*->httpx<1,>=0.23.0->openai) (0.16.0)\n",
            "Requirement already satisfied: annotated-types>=0.6.0 in /usr/local/lib/python3.11/dist-packages (from pydantic<3,>=1.9.0->openai) (0.7.0)\n",
            "Requirement already satisfied: pydantic-core==2.33.2 in /usr/local/lib/python3.11/dist-packages (from pydantic<3,>=1.9.0->openai) (2.33.2)\n",
            "Requirement already satisfied: typing-inspection>=0.4.0 in /usr/local/lib/python3.11/dist-packages (from pydantic<3,>=1.9.0->openai) (0.4.1)\n",
            "Downloading playwright-1.54.0-py3-none-manylinux1_x86_64.whl (45.9 MB)\n",
            "\u001b[2K   \u001b[90m━━━━━━━━━━━━━━━━━━━━━━━━━━━━━━━━━━━━━━━━\u001b[0m \u001b[32m45.9/45.9 MB\u001b[0m \u001b[31m19.2 MB/s\u001b[0m eta \u001b[36m0:00:00\u001b[0m\n",
            "\u001b[?25hDownloading pyee-13.0.0-py3-none-any.whl (15 kB)\n",
            "Installing collected packages: pyee, playwright\n",
            "Successfully installed playwright-1.54.0 pyee-13.0.0\n"
          ]
        }
      ],
      "source": [
        "!pip install playwright openai"
      ]
    },
    {
      "cell_type": "code",
      "execution_count": 5,
      "metadata": {
        "colab": {
          "base_uri": "https://localhost:8080/"
        },
        "id": "vBzrxoOjuHxl",
        "outputId": "7f49ca75-d58e-4a4b-98f2-b3e263a762fd"
      },
      "outputs": [
        {
          "name": "stdout",
          "output_type": "stream",
          "text": [
            "Downloading Chromium 139.0.7258.5 (playwright build v1181)\u001b[2m from https://cdn.playwright.dev/dbazure/download/playwright/builds/chromium/1181/chromium-linux.zip\u001b[22m\n",
            "\u001b[1G172.5 MiB [] 0% 0.0s\u001b[0K\u001b[1G172.5 MiB [] 0% 47.2s\u001b[0K\u001b[1G172.5 MiB [] 0% 22.8s\u001b[0K\u001b[1G172.5 MiB [] 0% 15.3s\u001b[0K\u001b[1G172.5 MiB [] 0% 8.7s\u001b[0K\u001b[1G172.5 MiB [] 1% 6.4s\u001b[0K\u001b[1G172.5 MiB [] 1% 5.6s\u001b[0K\u001b[1G172.5 MiB [] 2% 5.2s\u001b[0K\u001b[1G172.5 MiB [] 2% 4.7s\u001b[0K\u001b[1G172.5 MiB [] 3% 4.4s\u001b[0K\u001b[1G172.5 MiB [] 3% 4.1s\u001b[0K\u001b[1G172.5 MiB [] 4% 3.9s\u001b[0K\u001b[1G172.5 MiB [] 4% 3.8s\u001b[0K\u001b[1G172.5 MiB [] 5% 3.8s\u001b[0K\u001b[1G172.5 MiB [] 5% 3.9s\u001b[0K\u001b[1G172.5 MiB [] 5% 4.0s\u001b[0K\u001b[1G172.5 MiB [] 6% 3.9s\u001b[0K\u001b[1G172.5 MiB [] 6% 3.8s\u001b[0K\u001b[1G172.5 MiB [] 7% 3.5s\u001b[0K\u001b[1G172.5 MiB [] 8% 3.2s\u001b[0K\u001b[1G172.5 MiB [] 9% 3.1s\u001b[0K\u001b[1G172.5 MiB [] 10% 3.0s\u001b[0K\u001b[1G172.5 MiB [] 11% 2.7s\u001b[0K\u001b[1G172.5 MiB [] 12% 2.5s\u001b[0K\u001b[1G172.5 MiB [] 13% 2.5s\u001b[0K\u001b[1G172.5 MiB [] 14% 2.4s\u001b[0K\u001b[1G172.5 MiB [] 15% 2.3s\u001b[0K\u001b[1G172.5 MiB [] 16% 2.2s\u001b[0K\u001b[1G172.5 MiB [] 17% 2.1s\u001b[0K\u001b[1G172.5 MiB [] 19% 2.0s\u001b[0K\u001b[1G172.5 MiB [] 20% 1.9s\u001b[0K\u001b[1G172.5 MiB [] 21% 1.8s\u001b[0K\u001b[1G172.5 MiB [] 22% 1.7s\u001b[0K\u001b[1G172.5 MiB [] 24% 1.7s\u001b[0K\u001b[1G172.5 MiB [] 25% 1.6s\u001b[0K\u001b[1G172.5 MiB [] 26% 1.6s\u001b[0K\u001b[1G172.5 MiB [] 27% 1.6s\u001b[0K\u001b[1G172.5 MiB [] 28% 1.5s\u001b[0K\u001b[1G172.5 MiB [] 30% 1.5s\u001b[0K\u001b[1G172.5 MiB [] 31% 1.4s\u001b[0K\u001b[1G172.5 MiB [] 33% 1.3s\u001b[0K\u001b[1G172.5 MiB [] 34% 1.3s\u001b[0K\u001b[1G172.5 MiB [] 36% 1.2s\u001b[0K\u001b[1G172.5 MiB [] 37% 1.2s\u001b[0K\u001b[1G172.5 MiB [] 38% 1.1s\u001b[0K\u001b[1G172.5 MiB [] 40% 1.1s\u001b[0K\u001b[1G172.5 MiB [] 41% 1.1s\u001b[0K\u001b[1G172.5 MiB [] 42% 1.0s\u001b[0K\u001b[1G172.5 MiB [] 44% 1.0s\u001b[0K\u001b[1G172.5 MiB [] 45% 0.9s\u001b[0K\u001b[1G172.5 MiB [] 47% 0.9s\u001b[0K\u001b[1G172.5 MiB [] 49% 0.9s\u001b[0K\u001b[1G172.5 MiB [] 50% 0.8s\u001b[0K\u001b[1G172.5 MiB [] 52% 0.8s\u001b[0K\u001b[1G172.5 MiB [] 53% 0.8s\u001b[0K\u001b[1G172.5 MiB [] 54% 0.8s\u001b[0K\u001b[1G172.5 MiB [] 55% 0.7s\u001b[0K\u001b[1G172.5 MiB [] 57% 0.7s\u001b[0K\u001b[1G172.5 MiB [] 58% 0.7s\u001b[0K\u001b[1G172.5 MiB [] 59% 0.7s\u001b[0K\u001b[1G172.5 MiB [] 61% 0.6s\u001b[0K\u001b[1G172.5 MiB [] 63% 0.6s\u001b[0K\u001b[1G172.5 MiB [] 64% 0.6s\u001b[0K\u001b[1G172.5 MiB [] 65% 0.5s\u001b[0K\u001b[1G172.5 MiB [] 67% 0.5s\u001b[0K\u001b[1G172.5 MiB [] 68% 0.5s\u001b[0K\u001b[1G172.5 MiB [] 69% 0.5s\u001b[0K\u001b[1G172.5 MiB [] 70% 0.5s\u001b[0K\u001b[1G172.5 MiB [] 71% 0.4s\u001b[0K\u001b[1G172.5 MiB [] 72% 0.4s\u001b[0K\u001b[1G172.5 MiB [] 73% 0.4s\u001b[0K\u001b[1G172.5 MiB [] 74% 0.4s\u001b[0K\u001b[1G172.5 MiB [] 75% 0.4s\u001b[0K\u001b[1G172.5 MiB [] 76% 0.4s\u001b[0K\u001b[1G172.5 MiB [] 77% 0.4s\u001b[0K\u001b[1G172.5 MiB [] 79% 0.3s\u001b[0K\u001b[1G172.5 MiB [] 80% 0.3s\u001b[0K\u001b[1G172.5 MiB [] 81% 0.3s\u001b[0K\u001b[1G172.5 MiB [] 82% 0.3s\u001b[0K\u001b[1G172.5 MiB [] 84% 0.2s\u001b[0K\u001b[1G172.5 MiB [] 85% 0.2s\u001b[0K\u001b[1G172.5 MiB [] 87% 0.2s\u001b[0K\u001b[1G172.5 MiB [] 88% 0.2s\u001b[0K\u001b[1G172.5 MiB [] 89% 0.2s\u001b[0K\u001b[1G172.5 MiB [] 91% 0.1s\u001b[0K\u001b[1G172.5 MiB [] 92% 0.1s\u001b[0K\u001b[1G172.5 MiB [] 94% 0.1s\u001b[0K\u001b[1G172.5 MiB [] 95% 0.1s\u001b[0K\u001b[1G172.5 MiB [] 96% 0.0s\u001b[0K\u001b[1G172.5 MiB [] 98% 0.0s\u001b[0K\u001b[1G172.5 MiB [] 99% 0.0s\u001b[0K\u001b[1G172.5 MiB [] 100% 0.0s\u001b[0K\n",
            "Chromium 139.0.7258.5 (playwright build v1181) downloaded to /root/.cache/ms-playwright/chromium-1181\n",
            "Downloading Chromium Headless Shell 139.0.7258.5 (playwright build v1181)\u001b[2m from https://cdn.playwright.dev/dbazure/download/playwright/builds/chromium/1181/chromium-headless-shell-linux.zip\u001b[22m\n",
            "\u001b[1G104.8 MiB [] 0% 0.0s\u001b[0K\u001b[1G104.8 MiB [] 0% 33.6s\u001b[0K\u001b[1G104.8 MiB [] 0% 18.3s\u001b[0K\u001b[1G104.8 MiB [] 0% 9.8s\u001b[0K\u001b[1G104.8 MiB [] 1% 5.0s\u001b[0K\u001b[1G104.8 MiB [] 2% 3.3s\u001b[0K\u001b[1G104.8 MiB [] 3% 2.7s\u001b[0K\u001b[1G104.8 MiB [] 5% 2.0s\u001b[0K\u001b[1G104.8 MiB [] 6% 1.8s\u001b[0K\u001b[1G104.8 MiB [] 8% 1.6s\u001b[0K\u001b[1G104.8 MiB [] 8% 1.7s\u001b[0K\u001b[1G104.8 MiB [] 10% 1.6s\u001b[0K\u001b[1G104.8 MiB [] 11% 1.6s\u001b[0K\u001b[1G104.8 MiB [] 12% 1.5s\u001b[0K\u001b[1G104.8 MiB [] 14% 1.4s\u001b[0K\u001b[1G104.8 MiB [] 15% 1.4s\u001b[0K\u001b[1G104.8 MiB [] 16% 1.3s\u001b[0K\u001b[1G104.8 MiB [] 18% 1.2s\u001b[0K\u001b[1G104.8 MiB [] 20% 1.2s\u001b[0K\u001b[1G104.8 MiB [] 21% 1.2s\u001b[0K\u001b[1G104.8 MiB [] 23% 1.1s\u001b[0K\u001b[1G104.8 MiB [] 25% 1.0s\u001b[0K\u001b[1G104.8 MiB [] 27% 1.0s\u001b[0K\u001b[1G104.8 MiB [] 29% 0.9s\u001b[0K\u001b[1G104.8 MiB [] 30% 0.9s\u001b[0K\u001b[1G104.8 MiB [] 33% 0.8s\u001b[0K\u001b[1G104.8 MiB [] 34% 0.8s\u001b[0K\u001b[1G104.8 MiB [] 37% 0.8s\u001b[0K\u001b[1G104.8 MiB [] 38% 0.7s\u001b[0K\u001b[1G104.8 MiB [] 41% 0.7s\u001b[0K\u001b[1G104.8 MiB [] 43% 0.6s\u001b[0K\u001b[1G104.8 MiB [] 43% 0.7s\u001b[0K\u001b[1G104.8 MiB [] 46% 0.6s\u001b[0K\u001b[1G104.8 MiB [] 48% 0.6s\u001b[0K\u001b[1G104.8 MiB [] 51% 0.5s\u001b[0K\u001b[1G104.8 MiB [] 53% 0.5s\u001b[0K\u001b[1G104.8 MiB [] 54% 0.5s\u001b[0K\u001b[1G104.8 MiB [] 56% 0.5s\u001b[0K\u001b[1G104.8 MiB [] 58% 0.4s\u001b[0K\u001b[1G104.8 MiB [] 61% 0.4s\u001b[0K\u001b[1G104.8 MiB [] 63% 0.4s\u001b[0K\u001b[1G104.8 MiB [] 65% 0.4s\u001b[0K\u001b[1G104.8 MiB [] 67% 0.3s\u001b[0K\u001b[1G104.8 MiB [] 69% 0.3s\u001b[0K\u001b[1G104.8 MiB [] 71% 0.3s\u001b[0K\u001b[1G104.8 MiB [] 73% 0.3s\u001b[0K\u001b[1G104.8 MiB [] 75% 0.2s\u001b[0K\u001b[1G104.8 MiB [] 77% 0.2s\u001b[0K\u001b[1G104.8 MiB [] 78% 0.2s\u001b[0K\u001b[1G104.8 MiB [] 78% 0.3s\u001b[0K\u001b[1G104.8 MiB [] 79% 0.3s\u001b[0K\u001b[1G104.8 MiB [] 79% 0.4s\u001b[0K\u001b[1G104.8 MiB [] 80% 0.4s\u001b[0K\u001b[1G104.8 MiB [] 80% 0.5s\u001b[0K\u001b[1G104.8 MiB [] 81% 0.5s\u001b[0K\u001b[1G104.8 MiB [] 81% 0.6s\u001b[0K\u001b[1G104.8 MiB [] 82% 0.6s\u001b[0K\u001b[1G104.8 MiB [] 82% 0.7s\u001b[0K\u001b[1G104.8 MiB [] 83% 0.7s\u001b[0K\u001b[1G104.8 MiB [] 84% 0.7s\u001b[0K\u001b[1G104.8 MiB [] 84% 0.8s\u001b[0K\u001b[1G104.8 MiB [] 86% 0.7s\u001b[0K\u001b[1G104.8 MiB [] 88% 0.6s\u001b[0K\u001b[1G104.8 MiB [] 90% 0.5s\u001b[0K\u001b[1G104.8 MiB [] 92% 0.4s\u001b[0K\u001b[1G104.8 MiB [] 94% 0.3s\u001b[0K\u001b[1G104.8 MiB [] 95% 0.2s\u001b[0K\u001b[1G104.8 MiB [] 97% 0.1s\u001b[0K\u001b[1G104.8 MiB [] 99% 0.0s\u001b[0K\u001b[1G104.8 MiB [] 100% 0.0s\u001b[0K\n",
            "Chromium Headless Shell 139.0.7258.5 (playwright build v1181) downloaded to /root/.cache/ms-playwright/chromium_headless_shell-1181\n",
            "Downloading Firefox 140.0.2 (playwright build v1489)\u001b[2m from https://cdn.playwright.dev/dbazure/download/playwright/builds/firefox/1489/firefox-ubuntu-22.04.zip\u001b[22m\n",
            "\u001b[1G92.5 MiB [] 0% 0.0s\u001b[0K\u001b[1G92.5 MiB [] 0% 29.1s\u001b[0K\u001b[1G92.5 MiB [] 0% 13.9s\u001b[0K\u001b[1G92.5 MiB [] 0% 8.5s\u001b[0K\u001b[1G92.5 MiB [] 1% 4.4s\u001b[0K\u001b[1G92.5 MiB [] 3% 2.7s\u001b[0K\u001b[1G92.5 MiB [] 4% 2.0s\u001b[0K\u001b[1G92.5 MiB [] 6% 1.7s\u001b[0K\u001b[1G92.5 MiB [] 7% 1.6s\u001b[0K\u001b[1G92.5 MiB [] 8% 1.5s\u001b[0K\u001b[1G92.5 MiB [] 9% 1.5s\u001b[0K\u001b[1G92.5 MiB [] 10% 1.6s\u001b[0K\u001b[1G92.5 MiB [] 12% 1.4s\u001b[0K\u001b[1G92.5 MiB [] 13% 1.4s\u001b[0K\u001b[1G92.5 MiB [] 14% 1.3s\u001b[0K\u001b[1G92.5 MiB [] 16% 1.3s\u001b[0K\u001b[1G92.5 MiB [] 17% 1.2s\u001b[0K\u001b[1G92.5 MiB [] 18% 1.2s\u001b[0K\u001b[1G92.5 MiB [] 20% 1.2s\u001b[0K\u001b[1G92.5 MiB [] 22% 1.1s\u001b[0K\u001b[1G92.5 MiB [] 24% 1.0s\u001b[0K\u001b[1G92.5 MiB [] 26% 1.0s\u001b[0K\u001b[1G92.5 MiB [] 28% 0.9s\u001b[0K\u001b[1G92.5 MiB [] 30% 0.9s\u001b[0K\u001b[1G92.5 MiB [] 32% 0.8s\u001b[0K\u001b[1G92.5 MiB [] 35% 0.8s\u001b[0K\u001b[1G92.5 MiB [] 37% 0.7s\u001b[0K\u001b[1G92.5 MiB [] 39% 0.7s\u001b[0K\u001b[1G92.5 MiB [] 41% 0.6s\u001b[0K\u001b[1G92.5 MiB [] 42% 0.6s\u001b[0K\u001b[1G92.5 MiB [] 45% 0.6s\u001b[0K\u001b[1G92.5 MiB [] 47% 0.6s\u001b[0K\u001b[1G92.5 MiB [] 48% 0.6s\u001b[0K\u001b[1G92.5 MiB [] 50% 0.5s\u001b[0K\u001b[1G92.5 MiB [] 52% 0.5s\u001b[0K\u001b[1G92.5 MiB [] 55% 0.5s\u001b[0K\u001b[1G92.5 MiB [] 57% 0.4s\u001b[0K\u001b[1G92.5 MiB [] 60% 0.4s\u001b[0K\u001b[1G92.5 MiB [] 62% 0.4s\u001b[0K\u001b[1G92.5 MiB [] 64% 0.3s\u001b[0K\u001b[1G92.5 MiB [] 67% 0.3s\u001b[0K\u001b[1G92.5 MiB [] 70% 0.3s\u001b[0K\u001b[1G92.5 MiB [] 71% 0.3s\u001b[0K\u001b[1G92.5 MiB [] 73% 0.2s\u001b[0K\u001b[1G92.5 MiB [] 75% 0.2s\u001b[0K\u001b[1G92.5 MiB [] 78% 0.2s\u001b[0K\u001b[1G92.5 MiB [] 80% 0.2s\u001b[0K\u001b[1G92.5 MiB [] 82% 0.2s\u001b[0K\u001b[1G92.5 MiB [] 84% 0.1s\u001b[0K\u001b[1G92.5 MiB [] 87% 0.1s\u001b[0K\u001b[1G92.5 MiB [] 89% 0.1s\u001b[0K\u001b[1G92.5 MiB [] 92% 0.1s\u001b[0K\u001b[1G92.5 MiB [] 95% 0.0s\u001b[0K\u001b[1G92.5 MiB [] 97% 0.0s\u001b[0K\u001b[1G92.5 MiB [] 100% 0.0s\u001b[0K\n",
            "Firefox 140.0.2 (playwright build v1489) downloaded to /root/.cache/ms-playwright/firefox-1489\n",
            "Downloading Webkit 26.0 (playwright build v2191)\u001b[2m from https://cdn.playwright.dev/dbazure/download/playwright/builds/webkit/2191/webkit-ubuntu-22.04.zip\u001b[22m\n",
            "\u001b[1G94.4 MiB [] 0% 0.0s\u001b[0K\u001b[1G94.4 MiB [] 0% 30.0s\u001b[0K\u001b[1G94.4 MiB [] 0% 15.3s\u001b[0K\u001b[1G94.4 MiB [] 0% 8.2s\u001b[0K\u001b[1G94.4 MiB [] 1% 4.6s\u001b[0K\u001b[1G94.4 MiB [] 2% 3.4s\u001b[0K\u001b[1G94.4 MiB [] 3% 2.5s\u001b[0K\u001b[1G94.4 MiB [] 5% 2.1s\u001b[0K\u001b[1G94.4 MiB [] 6% 1.8s\u001b[0K\u001b[1G94.4 MiB [] 8% 1.6s\u001b[0K\u001b[1G94.4 MiB [] 9% 1.7s\u001b[0K\u001b[1G94.4 MiB [] 11% 1.5s\u001b[0K\u001b[1G94.4 MiB [] 12% 1.5s\u001b[0K\u001b[1G94.4 MiB [] 14% 1.3s\u001b[0K\u001b[1G94.4 MiB [] 15% 1.4s\u001b[0K\u001b[1G94.4 MiB [] 16% 1.6s\u001b[0K\u001b[1G94.4 MiB [] 17% 1.6s\u001b[0K\u001b[1G94.4 MiB [] 19% 1.5s\u001b[0K\u001b[1G94.4 MiB [] 22% 1.3s\u001b[0K\u001b[1G94.4 MiB [] 23% 1.3s\u001b[0K\u001b[1G94.4 MiB [] 24% 1.2s\u001b[0K\u001b[1G94.4 MiB [] 26% 1.2s\u001b[0K\u001b[1G94.4 MiB [] 28% 1.1s\u001b[0K\u001b[1G94.4 MiB [] 30% 1.0s\u001b[0K\u001b[1G94.4 MiB [] 32% 0.9s\u001b[0K\u001b[1G94.4 MiB [] 35% 0.9s\u001b[0K\u001b[1G94.4 MiB [] 37% 0.8s\u001b[0K\u001b[1G94.4 MiB [] 38% 0.8s\u001b[0K\u001b[1G94.4 MiB [] 41% 0.8s\u001b[0K\u001b[1G94.4 MiB [] 42% 0.7s\u001b[0K\u001b[1G94.4 MiB [] 45% 0.7s\u001b[0K\u001b[1G94.4 MiB [] 48% 0.6s\u001b[0K\u001b[1G94.4 MiB [] 50% 0.6s\u001b[0K\u001b[1G94.4 MiB [] 53% 0.5s\u001b[0K\u001b[1G94.4 MiB [] 56% 0.5s\u001b[0K\u001b[1G94.4 MiB [] 59% 0.5s\u001b[0K\u001b[1G94.4 MiB [] 61% 0.4s\u001b[0K\u001b[1G94.4 MiB [] 63% 0.4s\u001b[0K\u001b[1G94.4 MiB [] 65% 0.4s\u001b[0K\u001b[1G94.4 MiB [] 66% 0.4s\u001b[0K\u001b[1G94.4 MiB [] 68% 0.3s\u001b[0K\u001b[1G94.4 MiB [] 70% 0.3s\u001b[0K\u001b[1G94.4 MiB [] 72% 0.3s\u001b[0K\u001b[1G94.4 MiB [] 75% 0.3s\u001b[0K\u001b[1G94.4 MiB [] 77% 0.2s\u001b[0K\u001b[1G94.4 MiB [] 79% 0.2s\u001b[0K\u001b[1G94.4 MiB [] 82% 0.2s\u001b[0K\u001b[1G94.4 MiB [] 84% 0.2s\u001b[0K\u001b[1G94.4 MiB [] 86% 0.1s\u001b[0K\u001b[1G94.4 MiB [] 88% 0.1s\u001b[0K\u001b[1G94.4 MiB [] 90% 0.1s\u001b[0K\u001b[1G94.4 MiB [] 91% 0.1s\u001b[0K\u001b[1G94.4 MiB [] 93% 0.1s\u001b[0K\u001b[1G94.4 MiB [] 94% 0.1s\u001b[0K\u001b[1G94.4 MiB [] 96% 0.0s\u001b[0K\u001b[1G94.4 MiB [] 99% 0.0s\u001b[0K\u001b[1G94.4 MiB [] 100% 0.0s\u001b[0K\n",
            "Webkit 26.0 (playwright build v2191) downloaded to /root/.cache/ms-playwright/webkit-2191\n",
            "Downloading FFMPEG playwright build v1011\u001b[2m from https://cdn.playwright.dev/dbazure/download/playwright/builds/ffmpeg/1011/ffmpeg-linux.zip\u001b[22m\n",
            "\u001b[1G2.3 MiB [] 0% 0.0s\u001b[0K\u001b[1G2.3 MiB [] 2% 0.7s\u001b[0K\u001b[1G2.3 MiB [] 12% 0.3s\u001b[0K\u001b[1G2.3 MiB [] 36% 0.1s\u001b[0K\u001b[1G2.3 MiB [] 86% 0.0s\u001b[0K\u001b[1G2.3 MiB [] 100% 0.0s\u001b[0K\n",
            "FFMPEG playwright build v1011 downloaded to /root/.cache/ms-playwright/ffmpeg-1011\n",
            "Playwright Host validation warning: \n",
            "╔══════════════════════════════════════════════════════╗\n",
            "║ Host system is missing dependencies to run browsers. ║\n",
            "║ Missing libraries:                                   ║\n",
            "║     libwoff2dec.so.1.0.2                             ║\n",
            "║     libgstgl-1.0.so.0                                ║\n",
            "║     libgstcodecparsers-1.0.so.0                      ║\n",
            "║     libavif.so.13                                    ║\n",
            "║     libharfbuzz-icu.so.0                             ║\n",
            "║     libenchant-2.so.2                                ║\n",
            "║     libsecret-1.so.0                                 ║\n",
            "║     libhyphen.so.0                                   ║\n",
            "║     libmanette-0.2.so.0                              ║\n",
            "╚══════════════════════════════════════════════════════╝\n",
            "    at validateDependenciesLinux (/usr/local/lib/python3.11/dist-packages/playwright/driver/package/lib/server/registry/dependencies.js:269:9)\n",
            "\u001b[90m    at process.processTicksAndRejections (node:internal/process/task_queues:105:5)\u001b[39m\n",
            "    at async Registry._validateHostRequirements (/usr/local/lib/python3.11/dist-packages/playwright/driver/package/lib/server/registry/index.js:914:14)\n",
            "    at async Registry._validateHostRequirementsForExecutableIfNeeded (/usr/local/lib/python3.11/dist-packages/playwright/driver/package/lib/server/registry/index.js:1036:7)\n",
            "    at async Registry.validateHostRequirementsForExecutablesIfNeeded (/usr/local/lib/python3.11/dist-packages/playwright/driver/package/lib/server/registry/index.js:1025:7)\n",
            "    at async i.<anonymous> (/usr/local/lib/python3.11/dist-packages/playwright/driver/package/lib/cli/program.js:222:7)\n"
          ]
        }
      ],
      "source": [
        "!playwright install\n"
      ]
    },
    {
      "cell_type": "code",
      "execution_count": null,
      "metadata": {
        "colab": {
          "base_uri": "https://localhost:8080/"
        },
        "id": "UszX8eL4tNj8",
        "outputId": "7e20a9b6-450f-4fa1-b706-90d0bf361301"
      },
      "outputs": [
        {
          "name": "stdout",
          "output_type": "stream",
          "text": [
            "Done. Data saved to output.json.\n"
          ]
        }
      ],
      "source": [
        "import nest_asyncio\n",
        "import asyncio\n",
        "from playwright.async_api import async_playwright\n",
        "import openai\n",
        "import json\n",
        "\n",
        "nest_asyncio.apply()\n",
        "\n",
        "openai.api_key = \"APIKEY\"\n",
        "\n",
        "materials_reference = {\n",
        "    \"Electronics\": [\n",
        "        \"Computers, Laptops, Tablets\",\n",
        "        \"Monitors, TVs (CRT & Flat Screen)\",\n",
        "        \"Cell Phones, Smartphones\",\n",
        "        \"Printers, Copiers, Fax Machines\",\n",
        "        \"Audio/Video Equipment\",\n",
        "        \"Gaming Consoles\",\n",
        "        \"Small Appliances (Microwaves, Toasters, etc.)\",\n",
        "        \"Computer Peripherals (Keyboards, Mice, Cables, etc.)\"\n",
        "    ]\n",
        "}\n",
        "\n",
        "def classify_materials(raw_description):\n",
        "    prompt = f\"\"\"\n",
        "You are a smart extractor classifying recycling materials.\n",
        "\n",
        "Here is a raw text description of accepted materials at a recycling center:\n",
        "\n",
        "\"{raw_description}\"\n",
        "\n",
        "Based on the below categories and sub-materials, return:\n",
        "1. A list of matched \"materials_category\"\n",
        "2. A list of matched \"materials_accepted\"\n",
        "\n",
        "Your response must be in this JSON format:\n",
        "{{\n",
        "  \"materials_category\": [...],\n",
        "  \"materials_accepted\": [...]\n",
        "}}\n",
        "\n",
        "Categories and materials:\n",
        "{json.dumps(materials_reference, indent=2)}\n",
        "\n",
        "Only include valid exact matches from the above lists.\n",
        "\"\"\"\n",
        "    response = openai.ChatCompletion.create(\n",
        "        model=\"gpt-4\",\n",
        "        messages=[{\"role\": \"user\", \"content\": prompt}],\n",
        "        temperature=0.2\n",
        "    )\n",
        "    return json.loads(response.choices[0].message.content)\n",
        "\n",
        "async def scrape_earth911():\n",
        "    async with async_playwright() as p:\n",
        "        browser = await p.chromium.launch(headless=True, slow_mo=50)  # headless=False to fix timing/iframe issues\n",
        "        page = await browser.new_page()\n",
        "        await page.goto(\"https://search.earth911.com/\", timeout=60000)\n",
        "        await page.wait_for_timeout(8000)\n",
        "\n",
        "        # Use keyboard navigation as a backup if selectors fail\n",
        "        await page.keyboard.press(\"Tab\")\n",
        "        await page.keyboard.type(\"Electronics\")\n",
        "        await page.keyboard.press(\"Tab\")\n",
        "        await page.keyboard.type(\"10001\")\n",
        "        await page.keyboard.press(\"Enter\")\n",
        "\n",
        "        await page.wait_for_timeout(10000)\n",
        "\n",
        "        facilities = await page.locator(\".location-info\").all()\n",
        "        output = []\n",
        "\n",
        "        for facility in facilities[:3]:\n",
        "            business_name = await facility.locator(\"h2\").inner_text()\n",
        "            address = await facility.locator(\".address\").inner_text()\n",
        "            try:\n",
        "                update = await facility.locator(\".last-updated\").inner_text()\n",
        "            except:\n",
        "                update = \"Unknown\"\n",
        "            try:\n",
        "                accepted = await facility.locator(\".accepted-materials\").inner_text()\n",
        "            except:\n",
        "                accepted = \"\"\n",
        "\n",
        "            classification = classify_materials(accepted)\n",
        "\n",
        "            output.append({\n",
        "                \"business_name\": business_name.strip(),\n",
        "                \"last_update_date\": update.strip(),\n",
        "                \"street_address\": address.strip().replace(\"\\n\", \", \"),\n",
        "                \"materials_category\": classification[\"materials_category\"],\n",
        "                \"materials_accepted\": classification[\"materials_accepted\"]\n",
        "            })\n",
        "\n",
        "        await browser.close()\n",
        "        with open(\"output.json\", \"w\") as f:\n",
        "            json.dump(output, f, indent=2)\n",
        "        print(\"Done. Data saved to output.json.\")\n",
        "\n",
        "await scrape_earth911()"
      ]
    },
    {
      "cell_type": "code",
      "execution_count": 11,
      "metadata": {
        "id": "vK6oAvZKts6o"
      },
      "outputs": [],
      "source": [
        "import json\n",
        "\n",
        "with open(\"output.json\") as f:\n",
        "    data = json.load(f)\n",
        "\n",
        "for item in data:\n",
        "    print(json.dumps(item, indent=2))\n"
      ]
    },
    {
      "cell_type": "code",
      "execution_count": null,
      "metadata": {
        "id": "dja_b9FDvqFt"
      },
      "outputs": [],
      "source": []
    }
  ],
  "metadata": {
    "colab": {
      "provenance": []
    },
    "kernelspec": {
      "display_name": "Python 3",
      "name": "python3"
    },
    "language_info": {
      "name": "python"
    }
  },
  "nbformat": 4,
  "nbformat_minor": 0
}
